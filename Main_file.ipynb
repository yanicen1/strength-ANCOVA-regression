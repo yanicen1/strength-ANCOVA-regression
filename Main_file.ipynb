{
 "cells": [
  {
   "cell_type": "markdown",
   "metadata": {},
   "source": [
    "### Evaluation of the effect of various aggressive media, their temperatures, and exposure time on the strength of a material using ANCOVA and regression analysis\n",
    "The purpose of this study is to examine the effects of 3 different aggressive media, their temperatures, exposure time, and their interactions on the mechanical properties of a material. In order to do it, a statistical approach using ANCOVA multiple linear regression analysis is utilized. \n",
    "\n",
    "First of all, let's import our data by pandas' `read_csv()` function."
   ]
  },
  {
   "cell_type": "code",
   "execution_count": 1,
   "metadata": {},
   "outputs": [
    {
     "data": {
      "text/html": [
       "<div>\n",
       "<style scoped>\n",
       "    .dataframe tbody tr th:only-of-type {\n",
       "        vertical-align: middle;\n",
       "    }\n",
       "\n",
       "    .dataframe tbody tr th {\n",
       "        vertical-align: top;\n",
       "    }\n",
       "\n",
       "    .dataframe thead th {\n",
       "        text-align: right;\n",
       "    }\n",
       "</style>\n",
       "<table border=\"1\" class=\"dataframe\">\n",
       "  <thead>\n",
       "    <tr style=\"text-align: right;\">\n",
       "      <th></th>\n",
       "      <th>Material</th>\n",
       "      <th>Solution</th>\n",
       "      <th>Temperature</th>\n",
       "      <th>Time</th>\n",
       "      <th>Tb_Mpa</th>\n",
       "    </tr>\n",
       "  </thead>\n",
       "  <tbody>\n",
       "    <tr>\n",
       "      <th>0</th>\n",
       "      <td>ST</td>\n",
       "      <td>Oil</td>\n",
       "      <td>22</td>\n",
       "      <td>0</td>\n",
       "      <td>11.741106</td>\n",
       "    </tr>\n",
       "    <tr>\n",
       "      <th>1</th>\n",
       "      <td>ST</td>\n",
       "      <td>Oil</td>\n",
       "      <td>22</td>\n",
       "      <td>0</td>\n",
       "      <td>11.313492</td>\n",
       "    </tr>\n",
       "    <tr>\n",
       "      <th>2</th>\n",
       "      <td>ST</td>\n",
       "      <td>Oil</td>\n",
       "      <td>22</td>\n",
       "      <td>0</td>\n",
       "      <td>11.627972</td>\n",
       "    </tr>\n",
       "    <tr>\n",
       "      <th>3</th>\n",
       "      <td>ST</td>\n",
       "      <td>Oil</td>\n",
       "      <td>60</td>\n",
       "      <td>0</td>\n",
       "      <td>11.741106</td>\n",
       "    </tr>\n",
       "    <tr>\n",
       "      <th>4</th>\n",
       "      <td>ST</td>\n",
       "      <td>Oil</td>\n",
       "      <td>60</td>\n",
       "      <td>0</td>\n",
       "      <td>11.313492</td>\n",
       "    </tr>\n",
       "  </tbody>\n",
       "</table>\n",
       "</div>"
      ],
      "text/plain": [
       "  Material Solution  Temperature  Time     Tb_Mpa\n",
       "0       ST      Oil           22     0  11.741106\n",
       "1       ST      Oil           22     0  11.313492\n",
       "2       ST      Oil           22     0  11.627972\n",
       "3       ST      Oil           60     0  11.741106\n",
       "4       ST      Oil           60     0  11.313492"
      ]
     },
     "execution_count": 1,
     "metadata": {},
     "output_type": "execute_result"
    }
   ],
   "source": [
    "import pandas as pd\n",
    "\n",
    "# DataFrame from a 'csv' file \n",
    "Comp_df = pd.read_csv('Comp.csv')\n",
    "\n",
    "Comp_df.head()"
   ]
  },
  {
   "cell_type": "markdown",
   "metadata": {},
   "source": [
    "As we may see, the above table has 5 columns: the material name 'Material', solution name 'Solution', its temperature 'Temperature', exposure time inside a solution 'Time', and strength values 'Tb_Mpa'.  The last column is the output variable, others are input ones.\n",
    "\n",
    "Well so let's drop the first column because we have only one material here."
   ]
  },
  {
   "cell_type": "code",
   "execution_count": 2,
   "metadata": {},
   "outputs": [],
   "source": [
    "# Drop a column\n",
    "Comp_df = Comp_df.drop(['Material'], axis=1)"
   ]
  },
  {
   "cell_type": "markdown",
   "metadata": {},
   "source": [
    "In order to see the data distribution, skewness, and outliers, the box plot chart was plotted."
   ]
  },
  {
   "cell_type": "code",
   "execution_count": 30,
   "metadata": {},
   "outputs": [
    {
     "data": {
      "text/plain": [
       "Text(0, 0.5, 'Strength, $F^{sbs}$ (MPa)')"
      ]
     },
     "execution_count": 30,
     "metadata": {},
     "output_type": "execute_result"
    },
    {
     "data": {
      "text/plain": [
       "<Figure size 432x288 with 0 Axes>"
      ]
     },
     "metadata": {},
     "output_type": "display_data"
    },
    {
     "data": {
      "image/png": "[encoded data removed]",
      "text/plain": [
       "<Figure size 252x468 with 1 Axes>"
      ]
     },
     "metadata": {},
     "output_type": "display_data"
    }
   ],
   "source": [
    "import seaborn as sns\n",
    "import matplotlib.pyplot as plt\n",
    "\n",
    "f = plt.figure()\n",
    "sns.set(font_scale=1.7)\n",
    "sns.set_style(\"ticks\")\n",
    "f, ax = plt.subplots(figsize=(3.5, 6.5))\n",
    "\n",
    "# Box plot chart\n",
    "ax = sns.boxplot(y='Tb_Mpa', data=Comp_df[24:], color='#99c2a2')\n",
    "ax = sns.swarmplot(y=\"Tb_Mpa\", data=Comp_df[24:], color='#7d0013')  \n",
    "\n",
    "plt.ylabel(\"Strength, $F^{sbs}$ (MPa)\")\n",
    "# To save the diagrams, use the code snippet below\n",
    "#f.savefig(\"Results\\BoxPlot_strength.png\", bbox_inches='tight', dpi=600)"
   ]
  },
  {
   "cell_type": "markdown",
   "metadata": {},
   "source": [
    "One can see that strength values are not too skewed and there are no outliers, therefore we can accept the whole dataset."
   ]
  },
  {
   "cell_type": "markdown",
   "metadata": {},
   "source": [
    "Our DataFrame has not only quantitative but also categorical variables, therefore to apply ANCOVA, we need to re-code the categorical variable with 3 kinds of solutions as 3 new columns with 0 and 1. Using the function `prep_dat` the variables are coded 0 for any case that does not match the variable name and 1 for any case that does match the variable name. "
   ]
  },
  {
   "cell_type": "code",
   "execution_count": 7,
   "metadata": {},
   "outputs": [],
   "source": [
    "from sklearn.preprocessing import OneHotEncoder\n",
    "\n",
    "def prep_dat(df):\n",
    "    '''The function converts categorical variables to numerical by \"one-hot encoder\".'''\n",
    "    # Input variables\n",
    "    X = (df[df.columns[:-1]]).copy()\n",
    "    \n",
    "    # List of column names with categorical variables\n",
    "    object_cols = list(((X.dtypes == 'object')[(X.dtypes == 'object')]).index)\n",
    "    \n",
    "    # Apply one-hot encoder to each column with categorical data\n",
    "    OH_encoder = OneHotEncoder(sparse=False)\n",
    "    OH_cols_X = pd.DataFrame(OH_encoder.fit_transform(X[object_cols]))\n",
    "    \n",
    "    # One-hot encoding removed index; put it back\n",
    "    OH_cols_X.index = X.index\n",
    "    \n",
    "    # Get new column names\n",
    "    OH_cols_X.columns = OH_encoder.get_feature_names(object_cols)\n",
    "\n",
    "    # Remove categorical columns (will replace with one-hot encoding)\n",
    "    num_X = X.drop(object_cols, axis=1)\n",
    "\n",
    "    # Add one-hot encoded columns to numerical features\n",
    "    OH_X = pd.concat([OH_cols_X, num_X], axis=1)\n",
    "    \n",
    "    return OH_X"
   ]
  },
  {
   "cell_type": "code",
   "execution_count": 8,
   "metadata": {},
   "outputs": [
    {
     "data": {
      "text/html": [
       "<div>\n",
       "<style scoped>\n",
       "    .dataframe tbody tr th:only-of-type {\n",
       "        vertical-align: middle;\n",
       "    }\n",
       "\n",
       "    .dataframe tbody tr th {\n",
       "        vertical-align: top;\n",
       "    }\n",
       "\n",
       "    .dataframe thead th {\n",
       "        text-align: right;\n",
       "    }\n",
       "</style>\n",
       "<table border=\"1\" class=\"dataframe\">\n",
       "  <thead>\n",
       "    <tr style=\"text-align: right;\">\n",
       "      <th></th>\n",
       "      <th>Solution_Industrial_water</th>\n",
       "      <th>Solution_Oil</th>\n",
       "      <th>Solution_Sea_water</th>\n",
       "      <th>Temperature</th>\n",
       "      <th>Time</th>\n",
       "    </tr>\n",
       "  </thead>\n",
       "  <tbody>\n",
       "    <tr>\n",
       "      <th>0</th>\n",
       "      <td>0.0</td>\n",
       "      <td>1.0</td>\n",
       "      <td>0.0</td>\n",
       "      <td>22</td>\n",
       "      <td>0</td>\n",
       "    </tr>\n",
       "    <tr>\n",
       "      <th>1</th>\n",
       "      <td>0.0</td>\n",
       "      <td>1.0</td>\n",
       "      <td>0.0</td>\n",
       "      <td>22</td>\n",
       "      <td>0</td>\n",
       "    </tr>\n",
       "    <tr>\n",
       "      <th>2</th>\n",
       "      <td>0.0</td>\n",
       "      <td>1.0</td>\n",
       "      <td>0.0</td>\n",
       "      <td>22</td>\n",
       "      <td>0</td>\n",
       "    </tr>\n",
       "    <tr>\n",
       "      <th>3</th>\n",
       "      <td>0.0</td>\n",
       "      <td>1.0</td>\n",
       "      <td>0.0</td>\n",
       "      <td>60</td>\n",
       "      <td>0</td>\n",
       "    </tr>\n",
       "    <tr>\n",
       "      <th>4</th>\n",
       "      <td>0.0</td>\n",
       "      <td>1.0</td>\n",
       "      <td>0.0</td>\n",
       "      <td>60</td>\n",
       "      <td>0</td>\n",
       "    </tr>\n",
       "  </tbody>\n",
       "</table>\n",
       "</div>"
      ],
      "text/plain": [
       "   Solution_Industrial_water  Solution_Oil  Solution_Sea_water  Temperature  \\\n",
       "0                        0.0           1.0                 0.0           22   \n",
       "1                        0.0           1.0                 0.0           22   \n",
       "2                        0.0           1.0                 0.0           22   \n",
       "3                        0.0           1.0                 0.0           60   \n",
       "4                        0.0           1.0                 0.0           60   \n",
       "\n",
       "   Time  \n",
       "0     0  \n",
       "1     0  \n",
       "2     0  \n",
       "3     0  \n",
       "4     0  "
      ]
     },
     "execution_count": 8,
     "metadata": {},
     "output_type": "execute_result"
    }
   ],
   "source": [
    "# Convert categorical variables to numerical\n",
    "Comp_df_OH = prep_dat(Comp_df)\n",
    "Comp_df_OH.head()"
   ]
  },
  {
   "cell_type": "markdown",
   "metadata": {},
   "source": [
    "Next, to avoid multi-collinearity, we have to drop one of the one-hot columns"
   ]
  },
  {
   "cell_type": "code",
   "execution_count": 9,
   "metadata": {},
   "outputs": [
    {
     "data": {
      "text/html": [
       "<div>\n",
       "<style scoped>\n",
       "    .dataframe tbody tr th:only-of-type {\n",
       "        vertical-align: middle;\n",
       "    }\n",
       "\n",
       "    .dataframe tbody tr th {\n",
       "        vertical-align: top;\n",
       "    }\n",
       "\n",
       "    .dataframe thead th {\n",
       "        text-align: right;\n",
       "    }\n",
       "</style>\n",
       "<table border=\"1\" class=\"dataframe\">\n",
       "  <thead>\n",
       "    <tr style=\"text-align: right;\">\n",
       "      <th></th>\n",
       "      <th>Solution_Industrial_water</th>\n",
       "      <th>Solution_Sea_water</th>\n",
       "      <th>Temperature</th>\n",
       "      <th>Time</th>\n",
       "    </tr>\n",
       "  </thead>\n",
       "  <tbody>\n",
       "    <tr>\n",
       "      <th>0</th>\n",
       "      <td>0.0</td>\n",
       "      <td>0.0</td>\n",
       "      <td>22</td>\n",
       "      <td>0</td>\n",
       "    </tr>\n",
       "    <tr>\n",
       "      <th>1</th>\n",
       "      <td>0.0</td>\n",
       "      <td>0.0</td>\n",
       "      <td>22</td>\n",
       "      <td>0</td>\n",
       "    </tr>\n",
       "    <tr>\n",
       "      <th>2</th>\n",
       "      <td>0.0</td>\n",
       "      <td>0.0</td>\n",
       "      <td>22</td>\n",
       "      <td>0</td>\n",
       "    </tr>\n",
       "    <tr>\n",
       "      <th>3</th>\n",
       "      <td>0.0</td>\n",
       "      <td>0.0</td>\n",
       "      <td>60</td>\n",
       "      <td>0</td>\n",
       "    </tr>\n",
       "    <tr>\n",
       "      <th>4</th>\n",
       "      <td>0.0</td>\n",
       "      <td>0.0</td>\n",
       "      <td>60</td>\n",
       "      <td>0</td>\n",
       "    </tr>\n",
       "  </tbody>\n",
       "</table>\n",
       "</div>"
      ],
      "text/plain": [
       "   Solution_Industrial_water  Solution_Sea_water  Temperature  Time\n",
       "0                        0.0                 0.0           22     0\n",
       "1                        0.0                 0.0           22     0\n",
       "2                        0.0                 0.0           22     0\n",
       "3                        0.0                 0.0           60     0\n",
       "4                        0.0                 0.0           60     0"
      ]
     },
     "execution_count": 9,
     "metadata": {},
     "output_type": "execute_result"
    }
   ],
   "source": [
    "# Drop a column\n",
    "Comp_df_OH.drop('Solution_Oil', axis=1, inplace=True)\n",
    "Comp_df_OH.head()"
   ]
  },
  {
   "cell_type": "markdown",
   "metadata": {},
   "source": [
    "First of all, let's examine the interaction ANCOVA model. By doing this, we have to add new columns with interactions between the different solutions, their temperature, and exposure time."
   ]
  },
  {
   "cell_type": "code",
   "execution_count": 13,
   "metadata": {},
   "outputs": [],
   "source": [
    "# Take into account interaction between input variables\n",
    "Comp_df_OH_inter = pd.concat([Comp_df_OH,\n",
    "      pd.DataFrame({'Temperature*Time': Comp_df_OH['Temperature']*Comp_df_OH['Time']}),\n",
    "      pd.DataFrame({'Industrial_water*Temperature*Time': \n",
    "          Comp_df_OH['Solution_Industrial_water']*Comp_df_OH['Temperature']*Comp_df_OH['Time']}),\n",
    "      pd.DataFrame({'Industrial_water*Temperature': Comp_df_OH['Solution_Industrial_water']*Comp_df_OH['Temperature']}),\n",
    "      pd.DataFrame({'Industrial_water*Time': Comp_df_OH['Solution_Industrial_water']*Comp_df_OH['Time']}),\n",
    "      pd.DataFrame({'Sea_water*Temperature*Time': \n",
    "          Comp_df_OH['Solution_Sea_water']*Comp_df_OH['Temperature']*Comp_df_OH['Time']}),\n",
    "      pd.DataFrame({'Sea_water*Temperature': Comp_df_OH['Solution_Sea_water']*Comp_df_OH['Temperature']}),\n",
    "      pd.DataFrame({'Sea_water*Time': Comp_df_OH['Solution_Sea_water']*Comp_df_OH['Time']})], 1)"
   ]
  },
  {
   "cell_type": "markdown",
   "metadata": {},
   "source": [
    "However, it is evident that aggressive media, as well as its temperature, do not affect the results at an exposure time of 0 days. Consequently, these input variables can be considered insignificant and removed from the interaction model. Thus, ‘Ind. Water’, ‘Sea water’, ‘Temp’, ‘Ind. water×Temp’, and ‘Sea water×Temp’ variables were not taken into account in order to avoid high multicollinearity."
   ]
  },
  {
   "cell_type": "code",
   "execution_count": 19,
   "metadata": {},
   "outputs": [],
   "source": [
    "Comp_df_OH_inter = Comp_df_OH_inter.drop(['Solution_Industrial_water', 'Solution_Sea_water', 'Temperature', \n",
    "                                           'Industrial_water*Temperature', 'Sea_water*Temperature'], axis=1).copy()"
   ]
  },
  {
   "cell_type": "code",
   "execution_count": 20,
   "metadata": {},
   "outputs": [
    {
     "data": {
      "text/html": [
       "<div>\n",
       "<style scoped>\n",
       "    .dataframe tbody tr th:only-of-type {\n",
       "        vertical-align: middle;\n",
       "    }\n",
       "\n",
       "    .dataframe tbody tr th {\n",
       "        vertical-align: top;\n",
       "    }\n",
       "\n",
       "    .dataframe thead th {\n",
       "        text-align: right;\n",
       "    }\n",
       "</style>\n",
       "<table border=\"1\" class=\"dataframe\">\n",
       "  <thead>\n",
       "    <tr style=\"text-align: right;\">\n",
       "      <th></th>\n",
       "      <th>Time</th>\n",
       "      <th>Temperature*Time</th>\n",
       "      <th>Industrial_water*Temperature*Time</th>\n",
       "      <th>Industrial_water*Time</th>\n",
       "      <th>Sea_water*Temperature*Time</th>\n",
       "      <th>Sea_water*Time</th>\n",
       "    </tr>\n",
       "  </thead>\n",
       "  <tbody>\n",
       "    <tr>\n",
       "      <th>0</th>\n",
       "      <td>0</td>\n",
       "      <td>0</td>\n",
       "      <td>0.0</td>\n",
       "      <td>0.0</td>\n",
       "      <td>0.0</td>\n",
       "      <td>0.0</td>\n",
       "    </tr>\n",
       "    <tr>\n",
       "      <th>1</th>\n",
       "      <td>0</td>\n",
       "      <td>0</td>\n",
       "      <td>0.0</td>\n",
       "      <td>0.0</td>\n",
       "      <td>0.0</td>\n",
       "      <td>0.0</td>\n",
       "    </tr>\n",
       "    <tr>\n",
       "      <th>2</th>\n",
       "      <td>0</td>\n",
       "      <td>0</td>\n",
       "      <td>0.0</td>\n",
       "      <td>0.0</td>\n",
       "      <td>0.0</td>\n",
       "      <td>0.0</td>\n",
       "    </tr>\n",
       "    <tr>\n",
       "      <th>3</th>\n",
       "      <td>0</td>\n",
       "      <td>0</td>\n",
       "      <td>0.0</td>\n",
       "      <td>0.0</td>\n",
       "      <td>0.0</td>\n",
       "      <td>0.0</td>\n",
       "    </tr>\n",
       "    <tr>\n",
       "      <th>4</th>\n",
       "      <td>0</td>\n",
       "      <td>0</td>\n",
       "      <td>0.0</td>\n",
       "      <td>0.0</td>\n",
       "      <td>0.0</td>\n",
       "      <td>0.0</td>\n",
       "    </tr>\n",
       "  </tbody>\n",
       "</table>\n",
       "</div>"
      ],
      "text/plain": [
       "   Time  Temperature*Time  Industrial_water*Temperature*Time  \\\n",
       "0     0                 0                                0.0   \n",
       "1     0                 0                                0.0   \n",
       "2     0                 0                                0.0   \n",
       "3     0                 0                                0.0   \n",
       "4     0                 0                                0.0   \n",
       "\n",
       "   Industrial_water*Time  Sea_water*Temperature*Time  Sea_water*Time  \n",
       "0                    0.0                         0.0             0.0  \n",
       "1                    0.0                         0.0             0.0  \n",
       "2                    0.0                         0.0             0.0  \n",
       "3                    0.0                         0.0             0.0  \n",
       "4                    0.0                         0.0             0.0  "
      ]
     },
     "execution_count": 20,
     "metadata": {},
     "output_type": "execute_result"
    }
   ],
   "source": [
    "Comp_df_OH_inter.head()"
   ]
  },
  {
   "cell_type": "markdown",
   "metadata": {},
   "source": [
    "Before regression analysis, the data has to be normalized or standardized, but our dataset is small, so we can skip this step."
   ]
  },
  {
   "cell_type": "code",
   "execution_count": 21,
   "metadata": {},
   "outputs": [
    {
     "data": {
      "text/html": [
       "<div>\n",
       "<style scoped>\n",
       "    .dataframe tbody tr th:only-of-type {\n",
       "        vertical-align: middle;\n",
       "    }\n",
       "\n",
       "    .dataframe tbody tr th {\n",
       "        vertical-align: top;\n",
       "    }\n",
       "\n",
       "    .dataframe thead th {\n",
       "        text-align: right;\n",
       "    }\n",
       "</style>\n",
       "<table border=\"1\" class=\"dataframe\">\n",
       "  <thead>\n",
       "    <tr style=\"text-align: right;\">\n",
       "      <th></th>\n",
       "      <th>Time</th>\n",
       "      <th>Temperature*Time</th>\n",
       "      <th>Industrial_water*Temperature*Time</th>\n",
       "      <th>Industrial_water*Time</th>\n",
       "      <th>Sea_water*Temperature*Time</th>\n",
       "      <th>Sea_water*Time</th>\n",
       "      <th>Tb_Mpa</th>\n",
       "    </tr>\n",
       "  </thead>\n",
       "  <tbody>\n",
       "    <tr>\n",
       "      <th>0</th>\n",
       "      <td>0</td>\n",
       "      <td>0</td>\n",
       "      <td>0.0</td>\n",
       "      <td>0.0</td>\n",
       "      <td>0.0</td>\n",
       "      <td>0.0</td>\n",
       "      <td>11.741106</td>\n",
       "    </tr>\n",
       "    <tr>\n",
       "      <th>1</th>\n",
       "      <td>0</td>\n",
       "      <td>0</td>\n",
       "      <td>0.0</td>\n",
       "      <td>0.0</td>\n",
       "      <td>0.0</td>\n",
       "      <td>0.0</td>\n",
       "      <td>11.313492</td>\n",
       "    </tr>\n",
       "    <tr>\n",
       "      <th>2</th>\n",
       "      <td>0</td>\n",
       "      <td>0</td>\n",
       "      <td>0.0</td>\n",
       "      <td>0.0</td>\n",
       "      <td>0.0</td>\n",
       "      <td>0.0</td>\n",
       "      <td>11.627972</td>\n",
       "    </tr>\n",
       "    <tr>\n",
       "      <th>3</th>\n",
       "      <td>0</td>\n",
       "      <td>0</td>\n",
       "      <td>0.0</td>\n",
       "      <td>0.0</td>\n",
       "      <td>0.0</td>\n",
       "      <td>0.0</td>\n",
       "      <td>11.741106</td>\n",
       "    </tr>\n",
       "    <tr>\n",
       "      <th>4</th>\n",
       "      <td>0</td>\n",
       "      <td>0</td>\n",
       "      <td>0.0</td>\n",
       "      <td>0.0</td>\n",
       "      <td>0.0</td>\n",
       "      <td>0.0</td>\n",
       "      <td>11.313492</td>\n",
       "    </tr>\n",
       "  </tbody>\n",
       "</table>\n",
       "</div>"
      ],
      "text/plain": [
       "   Time  Temperature*Time  Industrial_water*Temperature*Time  \\\n",
       "0     0                 0                                0.0   \n",
       "1     0                 0                                0.0   \n",
       "2     0                 0                                0.0   \n",
       "3     0                 0                                0.0   \n",
       "4     0                 0                                0.0   \n",
       "\n",
       "   Industrial_water*Time  Sea_water*Temperature*Time  Sea_water*Time  \\\n",
       "0                    0.0                         0.0             0.0   \n",
       "1                    0.0                         0.0             0.0   \n",
       "2                    0.0                         0.0             0.0   \n",
       "3                    0.0                         0.0             0.0   \n",
       "4                    0.0                         0.0             0.0   \n",
       "\n",
       "      Tb_Mpa  \n",
       "0  11.741106  \n",
       "1  11.313492  \n",
       "2  11.627972  \n",
       "3  11.741106  \n",
       "4  11.313492  "
      ]
     },
     "execution_count": 21,
     "metadata": {},
     "output_type": "execute_result"
    }
   ],
   "source": [
    "# Add the output varible\n",
    "Comp_df_OH_inter = pd.concat([Comp_df_OH_inter, Comp_df[['Tb_Mpa']]], 1)\n",
    "Comp_df_OH_inter.head()"
   ]
  },
  {
   "cell_type": "markdown",
   "metadata": {},
   "source": [
    "The next step is to conduct regression analysis."
   ]
  },
  {
   "cell_type": "code",
   "execution_count": 22,
   "metadata": {},
   "outputs": [],
   "source": [
    "import statsmodels.api as sm\n",
    "\n",
    "def reg_an(df):\n",
    "    \"\"\"The function for multiple linear regression analysis\"\"\"    \n",
    "    # X and y values for modeling\n",
    "    X = df[df.columns[:-1]]\n",
    "    y = df[df.columns[-1]]\n",
    "    # Adding a constant\n",
    "    X = sm.add_constant(X) \n",
    "\n",
    "    model = sm.OLS(y, X).fit()\n",
    "    predictions = model.predict(X)\n",
    "    \n",
    "    # Degrees of freedom \n",
    "    DF = (len(predictions)-len(model.params))\n",
    "    # The Standard Error of Estimate\n",
    "    SEE = (sum((predictions - y)**2)/DF)**0.5\n",
    "\n",
    "    print_model = model.summary()\n",
    "    return (model.pvalues, model.params, print_model, predictions, SEE)"
   ]
  },
  {
   "cell_type": "code",
   "execution_count": 23,
   "metadata": {},
   "outputs": [
    {
     "name": "stdout",
     "output_type": "stream",
     "text": [
      "The Standard Error of Estimate: 0.4078\n",
      "                            OLS Regression Results                            \n",
      "==============================================================================\n",
      "Dep. Variable:                 Tb_Mpa   R-squared:                       0.664\n",
      "Model:                            OLS   Adj. R-squared:                  0.642\n",
      "Method:                 Least Squares   F-statistic:                     31.24\n",
      "Date:                Wed, 01 Sep 2021   Prob (F-statistic):           1.80e-20\n",
      "Time:                        12:44:29   Log-Likelihood:                -49.606\n",
      "No. Observations:                 102   AIC:                             113.2\n",
      "Df Residuals:                      95   BIC:                             131.6\n",
      "Df Model:                           6                                         \n",
      "Covariance Type:            nonrobust                                         \n",
      "=====================================================================================================\n",
      "                                        coef    std err          t      P>|t|      [0.025      0.975]\n",
      "-----------------------------------------------------------------------------------------------------\n",
      "const                                11.6840      0.066    176.144      0.000      11.552      11.816\n",
      "Time                                 -0.0044      0.007     -0.609      0.544      -0.019       0.010\n",
      "Temperature*Time                      0.0002      0.000      2.182      0.032    2.01e-05       0.000\n",
      "Industrial_water*Temperature*Time    -0.0008      0.000     -5.478      0.000      -0.001      -0.001\n",
      "Industrial_water*Time                 0.0173      0.010      1.762      0.081      -0.002       0.037\n",
      "Sea_water*Temperature*Time           -0.0010      0.000     -7.096      0.000      -0.001      -0.001\n",
      "Sea_water*Time                        0.0453      0.010      4.615      0.000       0.026       0.065\n",
      "==============================================================================\n",
      "Omnibus:                        4.707   Durbin-Watson:                   1.543\n",
      "Prob(Omnibus):                  0.095   Jarque-Bera (JB):                4.131\n",
      "Skew:                           0.475   Prob(JB):                        0.127\n",
      "Kurtosis:                       3.262   Cond. No.                     3.35e+03\n",
      "==============================================================================\n",
      "\n",
      "Warnings:\n",
      "[1] Standard Errors assume that the covariance matrix of the errors is correctly specified.\n",
      "[2] The condition number is large, 3.35e+03. This might indicate that there are\n",
      "strong multicollinearity or other numerical problems.\n"
     ]
    }
   ],
   "source": [
    "pval_1, param_1, print_mod_1, pred_1, SEE_1 = reg_an(Comp_df_OH_inter)\n",
    "\n",
    "print('The Standard Error of Estimate:', SEE_1.__round__(4))\n",
    "print(print_mod_1)"
   ]
  },
  {
   "cell_type": "markdown",
   "metadata": {},
   "source": [
    "To save the regression data, we can use the code snippet below."
   ]
  },
  {
   "cell_type": "code",
   "execution_count": null,
   "metadata": {},
   "outputs": [],
   "source": [
    "pd.DataFrame(print_mod.tables[1]).to_excel(\"ANCOVA_Regres_1.xlsx\", index=False, header=None)"
   ]
  },
  {
   "cell_type": "markdown",
   "metadata": {},
   "source": [
    "Then, let's plot graphs with predictions."
   ]
  },
  {
   "cell_type": "code",
   "execution_count": 24,
   "metadata": {},
   "outputs": [],
   "source": [
    "def grouped_df(data, column, label):\n",
    "    '''The function splits a pandas DataFrame according to a column and returns data with \"label\" values in the column.'''\n",
    "    group = data.groupby(column)\n",
    "    return group.get_group(label)"
   ]
  },
  {
   "cell_type": "code",
   "execution_count": 26,
   "metadata": {},
   "outputs": [],
   "source": [
    "import numpy as np\n",
    "\n",
    "def plot_grap_mult(df, X_col, Extr_col, pred):\n",
    "    '''The function plots prediction diagrams according to regression analysis'''\n",
    "    # Add new column with temperature information\n",
    "    df = pd.concat([\n",
    "        df, \n",
    "        pd.DataFrame({\"Extr_col\":('T = ' + df[Extr_col].astype(str) + \" C\")})\n",
    "        ], axis=1)\n",
    "    \n",
    "    for env in (df['Solution']).unique():\n",
    "        df_env = grouped_df(df, 'Solution', env)\n",
    "        \n",
    "        f = plt.figure()\n",
    "        \n",
    "        sns.set(font_scale=1.5)\n",
    "        sns.set_style(\"ticks\")\n",
    "        f, ax = plt.subplots(figsize=(8, 5))\n",
    "        \n",
    "        # Scatter plot\n",
    "        sns.scatterplot(x=df_env[X_col], y=df_env['Tb_Mpa'], hue=np.array(df_env['Extr_col']), s=70)\n",
    "        \n",
    "        for temp in (df_env['Extr_col']).unique():\n",
    "            df_env_temp = grouped_df(df_env, 'Extr_col', temp)\n",
    "\n",
    "            # Approximation of the scatter plot by the regression model\n",
    "            X = df_env_temp[X_col]\n",
    "            Y = pred[X.index]\n",
    "            sns.lineplot(X, Y)       \n",
    "        \n",
    "        plt.xlabel(\"Exposure time, $t$ (days)\")\n",
    "        plt.ylabel(\"Strength, $F^{sbs}$ (MPa)\")\n",
    "        \n",
    "        # To save the diagrams, use the code snippet below\n",
    "        #f.savefig(str(env) + \".png\", bbox_inches='tight', dpi=600)"
   ]
  },
  {
   "cell_type": "code",
   "execution_count": 27,
   "metadata": {},
   "outputs": [
    {
     "data": {
      "text/plain": [
       "<Figure size 432x288 with 0 Axes>"
      ]
     },
     "metadata": {},
     "output_type": "display_data"
    },
    {
     "data": {
      "image/png": "[encoded data removed]",
      "text/plain": [
       "<Figure size 576x360 with 1 Axes>"
      ]
     },
     "metadata": {},
     "output_type": "display_data"
    },
    {
     "data": {
      "text/plain": [
       "<Figure size 432x288 with 0 Axes>"
      ]
     },
     "metadata": {},
     "output_type": "display_data"
    },
    {
     "data": {
      "image/png": "[encoded data removed]",
      "text/plain": [
       "<Figure size 576x360 with 1 Axes>"
      ]
     },
     "metadata": {},
     "output_type": "display_data"
    },
    {
     "data": {
      "text/plain": [
       "<Figure size 432x288 with 0 Axes>"
      ]
     },
     "metadata": {},
     "output_type": "display_data"
    },
    {
     "data": {
      "image/png": "[encoded data removed]",
      "text/plain": [
       "<Figure size 576x360 with 1 Axes>"
      ]
     },
     "metadata": {},
     "output_type": "display_data"
    }
   ],
   "source": [
    "plot_grap_mult(Comp_df, 'Time', 'Temperature', pred_1)"
   ]
  },
  {
   "cell_type": "markdown",
   "metadata": {},
   "source": [
    "We demonstrated the model with interactions above, but how well the additive model is (without interaction effects). Let's find it out."
   ]
  },
  {
   "cell_type": "code",
   "execution_count": 28,
   "metadata": {},
   "outputs": [],
   "source": [
    "# Add the output varible\n",
    "Comp_df_OH = pd.concat([Comp_df_OH, Comp_df[['Tb_Mpa']]], 1)"
   ]
  },
  {
   "cell_type": "code",
   "execution_count": 29,
   "metadata": {},
   "outputs": [
    {
     "name": "stdout",
     "output_type": "stream",
     "text": [
      "The Standard Error of Estimate: 0.5546\n",
      "                            OLS Regression Results                            \n",
      "==============================================================================\n",
      "Dep. Variable:                 Tb_Mpa   R-squared:                       0.365\n",
      "Model:                            OLS   Adj. R-squared:                  0.338\n",
      "Method:                 Least Squares   F-statistic:                     13.92\n",
      "Date:                Wed, 01 Sep 2021   Prob (F-statistic):           5.20e-09\n",
      "Time:                        12:47:13   Log-Likelihood:                -82.041\n",
      "No. Observations:                 102   AIC:                             174.1\n",
      "Df Residuals:                      97   BIC:                             187.2\n",
      "Df Model:                           4                                         \n",
      "Covariance Type:            nonrobust                                         \n",
      "=============================================================================================\n",
      "                                coef    std err          t      P>|t|      [0.025      0.975]\n",
      "---------------------------------------------------------------------------------------------\n",
      "const                        12.5613      0.164     76.745      0.000      12.236      12.886\n",
      "Solution_Industrial_water    -0.7738      0.135     -5.753      0.000      -1.041      -0.507\n",
      "Solution_Sea_water           -0.4112      0.135     -3.057      0.003      -0.678      -0.144\n",
      "Temperature                  -0.0081      0.002     -4.003      0.000      -0.012      -0.004\n",
      "Time                         -0.0071      0.003     -2.092      0.039      -0.014      -0.000\n",
      "==============================================================================\n",
      "Omnibus:                        2.378   Durbin-Watson:                   1.229\n",
      "Prob(Omnibus):                  0.305   Jarque-Bera (JB):                2.202\n",
      "Skew:                           0.272   Prob(JB):                        0.333\n",
      "Kurtosis:                       2.528   Cond. No.                         249.\n",
      "==============================================================================\n",
      "\n",
      "Warnings:\n",
      "[1] Standard Errors assume that the covariance matrix of the errors is correctly specified.\n"
     ]
    }
   ],
   "source": [
    "pval_2, mod_par_2, print_mod_2, pred_2, SEE_2 = reg_an(Comp_df_OH)\n",
    "\n",
    "print('The Standard Error of Estimate:', SEE_2.__round__(4))\n",
    "print(print_mod_2)"
   ]
  },
  {
   "cell_type": "markdown",
   "metadata": {},
   "source": [
    "The additive and full ANCOVA models explain 34 % and 64 % of the variability in test scores respectively (adjusted R2 are 0.338 and 0.642), and the standard error of estimate (0.55 and 0.41) represents how far data fall from the regression predictions. Hereby, it suggests that the second model is the better one. In addition, one can see that the test has F statistic of 31.24 and 13.92 with p-values of less than 0.001 for additive and interaction models respectively. Accordingly, it shows the necessity of these models over an intercept-only model that predicts the average output for all the data."
   ]
  }
 ],
 "metadata": {
  "kernelspec": {
   "display_name": "Python 3",
   "language": "python",
   "name": "python3"
  },
  "language_info": {
   "codemirror_mode": {
    "name": "ipython",
    "version": 3
   },
   "file_extension": ".py",
   "mimetype": "text/x-python",
   "name": "python",
   "nbconvert_exporter": "python",
   "pygments_lexer": "ipython3",
   "version": "3.8.5"
  }
 },
 "nbformat": 4,
 "nbformat_minor": 4
}
